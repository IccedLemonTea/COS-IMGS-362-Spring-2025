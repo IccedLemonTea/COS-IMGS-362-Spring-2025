{
  "cells": [
    {
      "cell_type": "markdown",
      "metadata": {
        "id": "48QBhyCrQO3j"
      },
      "source": [
        "# Convolutional Neural Networks"
      ]
    },
    {
      "cell_type": "markdown",
      "metadata": {
        "id": "7L5CtZTKQO3k"
      },
      "source": [
        "In the previous section, we built and trained a simple model to classify ASL images. The model was able to learn how to correctly classify the training dataset with very high accuracy, but, it did not perform nearly as well on validation dataset. This behavior of not generalizing well to non-training data is called [overfitting](https://scikit-learn.org/stable/auto_examples/model_selection/plot_underfitting_overfitting.html), and in this section, we will introduce a popular kind of model called a convolutional neural network that is especially good for reading images and classifying them."
      ]
    },
    {
      "cell_type": "markdown",
      "metadata": {
        "id": "aVqqVX13QO3k"
      },
      "source": [
        "## Objectives"
      ]
    },
    {
      "cell_type": "markdown",
      "metadata": {
        "id": "RLosfKCqQ8WB"
      },
      "source": []
    },
    {
      "cell_type": "markdown",
      "metadata": {
        "id": "SXYjOoXRQO3k"
      },
      "source": [
        "* Prep data specifically for a CNN\n",
        "* Create a more sophisticated CNN model, understanding a greater variety of model layers\n",
        "* Train a CNN model and observe its performance"
      ]
    },
    {
      "cell_type": "markdown",
      "metadata": {
        "id": "dEmbrd3gQO3k"
      },
      "source": [
        "## Loading and Preparing the Data"
      ]
    },
    {
      "cell_type": "markdown",
      "metadata": {
        "id": "nuh_z7JUQO3k"
      },
      "source": [
        "The below cell contains the data preprocessing techniques we learned in the previous labs. Review it and execute it before moving on:"
      ]
    },
    {
      "cell_type": "code",
      "execution_count": 2,
      "metadata": {
        "id": "4kiwIR5jQO3l"
      },
      "outputs": [],
      "source": [
        "import tensorflow.keras as keras\n",
        "import pandas as pd\n",
        "\n",
        "# Loading the dataset needed\n",
        "fmnist = keras.datasets.fashion_mnist\n",
        "\n",
        "# Seperate data into training and validation sets\n",
        "(x_train, y_train), (x_valid, y_valid) = fmnist.load_data()\n",
        "\n",
        "# Turn our scalar targets into binary categories\n",
        "num_classes = 10\n",
        "y_train = keras.utils.to_categorical(y_train, num_classes)\n",
        "y_valid = keras.utils.to_categorical(y_valid, num_classes)\n",
        "\n",
        "# Normalize our image data\n",
        "x_train = x_train / 255\n",
        "x_valid = x_valid / 255"
      ]
    },
    {
      "cell_type": "markdown",
      "metadata": {
        "id": "NsG0wc_eQO3m"
      },
      "source": [
        "## Creating a Convolutional Model"
      ]
    },
    {
      "cell_type": "code",
      "execution_count": 16,
      "metadata": {
        "colab": {
          "base_uri": "https://localhost:8080/"
        },
        "id": "v5SaCz3SQO3m",
        "outputId": "65b4818f-aee9-42d1-afed-e0c4d35bf847"
      },
      "outputs": [],
      "source": [
        "from tensorflow.keras.models import Sequential\n",
        "from tensorflow.keras.layers import (\n",
        "    Dense,\n",
        "    Conv2D,\n",
        "    MaxPool2D,\n",
        "    Flatten,\n",
        "    Dropout,\n",
        "    BatchNormalization,\n",
        ")\n",
        "\n",
        "model = Sequential()\n",
        "model.add(Conv2D(80, (3, 3), strides=1, padding=\"same\", activation=\"relu\",\n",
        "                 input_shape=(28, 28, 1)))\n",
        "model.add(BatchNormalization())\n",
        "model.add(MaxPool2D((2, 2), strides=2, padding=\"same\"))\n",
        "model.add(Conv2D(50, (3, 3), strides=1, padding=\"same\", activation=\"relu\"))\n",
        "model.add(Dropout(0.2))\n",
        "model.add(BatchNormalization())\n",
        "model.add(MaxPool2D((2, 2), strides=2, padding=\"same\"))\n",
        "model.add(Conv2D(25, (3, 3), strides=1, padding=\"same\", activation=\"relu\"))\n",
        "model.add(BatchNormalization())\n",
        "model.add(MaxPool2D((2, 2), strides=2, padding=\"same\"))\n",
        "model.add(Flatten())\n",
        "model.add(Dense(units=512, activation=\"relu\"))\n",
        "model.add(Dropout(0.3))\n",
        "model.add(Dense(units=num_classes, activation=\"softmax\"))"
      ]
    },
    {
      "cell_type": "markdown",
      "metadata": {
        "id": "gEEHEYE0QO3m"
      },
      "source": [
        "### [Conv2D](https://www.tensorflow.org/api_docs/python/tf/keras/layers/Conv2D)"
      ]
    },
    {
      "cell_type": "markdown",
      "metadata": {
        "id": "dwU2MTe5QO3m"
      },
      "source": [
        "These are our 2D convolutional layers. Small kernels will go over the input image and detect features that are important for classification. Earlier convolutions in the model will detect simple features such as lines. Later convolutions will detect more complex features. Let's look at our first Conv2D layer:\n",
        "```Python\n",
        "model.add(Conv2D(75 , (3,3) , strides = 1 , padding = 'same'...)\n",
        "```\n",
        "75 refers to the number of filters that will be learned. (3,3) refers to the size of those filters. Strides refer to the step size that the filter will take as it passes over the image. Padding refers to whether the output image that's created from the filter will match the size of the input image."
      ]
    },
    {
      "cell_type": "markdown",
      "metadata": {
        "id": "tmm1XCN0QO3m"
      },
      "source": [
        "### [BatchNormalization](https://www.tensorflow.org/api_docs/python/tf/keras/layers/BatchNormalization)"
      ]
    },
    {
      "cell_type": "markdown",
      "metadata": {
        "id": "Yei0dgyhQO3m"
      },
      "source": [
        "Like normalizing our inputs, batch normalization scales the values in the hidden layers to improve training."
      ]
    },
    {
      "cell_type": "markdown",
      "metadata": {
        "id": "SD7DIXjiQO3m"
      },
      "source": [
        "### [MaxPool2D](https://www.tensorflow.org/api_docs/python/tf/keras/layers/MaxPool2D)"
      ]
    },
    {
      "cell_type": "markdown",
      "metadata": {
        "id": "ppWpAGqcQO3m"
      },
      "source": [
        "\n",
        "Max pooling takes an image and essentially shrinks it to a lower resolution. It does this to help the model be robust to translation (objects moving side to side), and also makes our model faster."
      ]
    },
    {
      "cell_type": "markdown",
      "metadata": {
        "id": "TQFYVtcIQO3m"
      },
      "source": [
        "### [Dropout](https://www.tensorflow.org/api_docs/python/tf/keras/layers/Dropout)"
      ]
    },
    {
      "cell_type": "markdown",
      "metadata": {
        "id": "YCUxK5a0QO3m"
      },
      "source": [
        "Dropout is a technique for preventing overfitting. Dropout randomly selects a subset of neurons and turns them off, so that they do not participate in forward or backward propagation in that particular pass. This helps to make sure that the network is robust and redundant, and does not rely on any one area to come up with answers.    "
      ]
    },
    {
      "cell_type": "markdown",
      "metadata": {
        "id": "bhTPyfCDQO3m"
      },
      "source": [
        "### [Flatten](https://www.tensorflow.org/api_docs/python/tf/keras/layers/Flatten)"
      ]
    },
    {
      "cell_type": "markdown",
      "metadata": {
        "id": "fUeNc5FHQO3n"
      },
      "source": [
        "Flatten takes the output of one layer which is multidimensional, and flattens it into a one-dimensional array. The output is called a feature vector and will be connected to the final classification layer."
      ]
    },
    {
      "cell_type": "markdown",
      "metadata": {
        "id": "tef_tD9mQO3n"
      },
      "source": [
        "### [Dense](https://www.tensorflow.org/api_docs/python/tf/keras/layers/Dense)"
      ]
    },
    {
      "cell_type": "markdown",
      "metadata": {
        "id": "_ohJXQZUQO3n"
      },
      "source": [
        "We have seen dense layers before in our earlier models. Our first dense layer (512 units) takes the feature vector as input and learns which features will contribute to a particular classification. The second dense layer (24 units) is the final classification layer that outputs our prediction."
      ]
    },
    {
      "cell_type": "markdown",
      "metadata": {
        "id": "GC8ZwoByQO3n"
      },
      "source": [
        "## Summarizing the Model"
      ]
    },
    {
      "cell_type": "markdown",
      "metadata": {
        "id": "wU1hNo1AQO3n"
      },
      "source": [
        "This may feel like a lot of information, but don't worry. It's not critical that to understand everything right now in order to effectively train convolutional models. Most importantly we know that they can help with extracting useful information from images, and can be used in classification tasks."
      ]
    },
    {
      "cell_type": "markdown",
      "metadata": {
        "id": "b4WeIjRjQO3n"
      },
      "source": [
        "Here, we summarize the model we just created. Notice how it has fewer trainable parameters than the model in the previous notebook:"
      ]
    },
    {
      "cell_type": "code",
      "execution_count": 17,
      "metadata": {
        "colab": {
          "base_uri": "https://localhost:8080/",
          "height": 642
        },
        "id": "ovM7-JSzQO3n",
        "outputId": "a284894b-896b-470c-a60f-c82fcb66e69c"
      },
      "outputs": [
        {
          "name": "stdout",
          "output_type": "stream",
          "text": [
            "Model: \"sequential_1\"\n",
            "_________________________________________________________________\n",
            " Layer (type)                Output Shape              Param #   \n",
            "=================================================================\n",
            " conv2d_3 (Conv2D)           (None, 28, 28, 80)        800       \n",
            "                                                                 \n",
            " batch_normalization_3 (Batc  (None, 28, 28, 80)       320       \n",
            " hNormalization)                                                 \n",
            "                                                                 \n",
            " max_pooling2d_3 (MaxPooling  (None, 14, 14, 80)       0         \n",
            " 2D)                                                             \n",
            "                                                                 \n",
            " conv2d_4 (Conv2D)           (None, 14, 14, 50)        36050     \n",
            "                                                                 \n",
            " dropout_2 (Dropout)         (None, 14, 14, 50)        0         \n",
            "                                                                 \n",
            " batch_normalization_4 (Batc  (None, 14, 14, 50)       200       \n",
            " hNormalization)                                                 \n",
            "                                                                 \n",
            " max_pooling2d_4 (MaxPooling  (None, 7, 7, 50)         0         \n",
            " 2D)                                                             \n",
            "                                                                 \n",
            " conv2d_5 (Conv2D)           (None, 7, 7, 25)          11275     \n",
            "                                                                 \n",
            " batch_normalization_5 (Batc  (None, 7, 7, 25)         100       \n",
            " hNormalization)                                                 \n",
            "                                                                 \n",
            " max_pooling2d_5 (MaxPooling  (None, 4, 4, 25)         0         \n",
            " 2D)                                                             \n",
            "                                                                 \n",
            " flatten_1 (Flatten)         (None, 400)               0         \n",
            "                                                                 \n",
            " dense_2 (Dense)             (None, 512)               205312    \n",
            "                                                                 \n",
            " dropout_3 (Dropout)         (None, 512)               0         \n",
            "                                                                 \n",
            " dense_3 (Dense)             (None, 10)                5130      \n",
            "                                                                 \n",
            "=================================================================\n",
            "Total params: 259,187\n",
            "Trainable params: 258,877\n",
            "Non-trainable params: 310\n",
            "_________________________________________________________________\n"
          ]
        }
      ],
      "source": [
        "model.summary()"
      ]
    },
    {
      "cell_type": "markdown",
      "metadata": {
        "id": "tbkJrLDUQO3n"
      },
      "source": [
        "## Compiling the Model"
      ]
    },
    {
      "cell_type": "markdown",
      "metadata": {
        "id": "cQsbuX5mQO3n"
      },
      "source": [
        "We'll compile the model just like before:"
      ]
    },
    {
      "cell_type": "code",
      "execution_count": 18,
      "metadata": {
        "id": "iZ0iSOOdQO3n"
      },
      "outputs": [],
      "source": [
        "model.compile(loss=\"categorical_crossentropy\", metrics=[\"accuracy\"])"
      ]
    },
    {
      "cell_type": "markdown",
      "metadata": {
        "id": "KPLZSBjgQO3n"
      },
      "source": [
        "## Training the Model"
      ]
    },
    {
      "cell_type": "markdown",
      "metadata": {
        "id": "D8NrFYJhQO3q"
      },
      "source": [
        "Despite the very different model architecture, the training looks exactly the same. Run the cell below to train for 20 epochs and let's see if the accuracy improves:"
      ]
    },
    {
      "cell_type": "code",
      "execution_count": 20,
      "metadata": {
        "colab": {
          "base_uri": "https://localhost:8080/"
        },
        "id": "iOwxbcSbQO3q",
        "outputId": "daf692b9-27b0-4ea9-b9f1-3feb6bdd7884"
      },
      "outputs": [
        {
          "name": "stdout",
          "output_type": "stream",
          "text": [
            "Epoch 1/10\n",
            "1875/1875 [==============================] - 56s 30ms/step - loss: 0.1754 - accuracy: 0.9365 - val_loss: 0.2260 - val_accuracy: 0.9193\n",
            "Epoch 2/10\n",
            "1875/1875 [==============================] - 56s 30ms/step - loss: 0.1666 - accuracy: 0.9398 - val_loss: 0.2919 - val_accuracy: 0.9023\n",
            "Epoch 3/10\n",
            "1875/1875 [==============================] - 56s 30ms/step - loss: 0.1591 - accuracy: 0.9423 - val_loss: 0.2571 - val_accuracy: 0.9114\n",
            "Epoch 4/10\n",
            "1875/1875 [==============================] - 56s 30ms/step - loss: 0.1549 - accuracy: 0.9440 - val_loss: 0.2121 - val_accuracy: 0.9252\n",
            "Epoch 5/10\n",
            "1875/1875 [==============================] - 57s 30ms/step - loss: 0.1499 - accuracy: 0.9462 - val_loss: 0.2612 - val_accuracy: 0.9057\n",
            "Epoch 6/10\n",
            "1875/1875 [==============================] - 58s 31ms/step - loss: 0.1455 - accuracy: 0.9470 - val_loss: 0.2223 - val_accuracy: 0.9227\n",
            "Epoch 7/10\n",
            "1875/1875 [==============================] - 58s 31ms/step - loss: 0.1397 - accuracy: 0.9502 - val_loss: 0.2415 - val_accuracy: 0.9217\n",
            "Epoch 8/10\n",
            "1875/1875 [==============================] - 58s 31ms/step - loss: 0.1345 - accuracy: 0.9503 - val_loss: 0.2269 - val_accuracy: 0.9272\n",
            "Epoch 9/10\n",
            "1875/1875 [==============================] - 58s 31ms/step - loss: 0.1320 - accuracy: 0.9521 - val_loss: 0.2137 - val_accuracy: 0.9273\n",
            "Epoch 10/10\n",
            "1875/1875 [==============================] - 58s 31ms/step - loss: 0.1290 - accuracy: 0.9535 - val_loss: 0.2424 - val_accuracy: 0.9260\n"
          ]
        },
        {
          "data": {
            "text/plain": [
              "<keras.callbacks.History at 0x7fa250202ad0>"
            ]
          },
          "execution_count": 20,
          "metadata": {},
          "output_type": "execute_result"
        }
      ],
      "source": [
        "model.fit(x_train, y_train, epochs=10, verbose=1, validation_data=(x_valid, y_valid))"
      ]
    },
    {
      "cell_type": "markdown",
      "metadata": {
        "id": "CWzLUXe6QO3q"
      },
      "source": [
        "## Discussion of Results"
      ]
    },
    {
      "cell_type": "markdown",
      "metadata": {
        "id": "_SaVIoTCQO3q"
      },
      "source": [
        "It looks like this model is significantly improved! The training accuracy is very high, and the validation accuracy has improved as well. This is a great result, as all we had to do was swap in a new model.\n",
        "\n",
        "You may have noticed the validation accuracy jumping around. This is an indication that our model is still not generalizing perfectly. Fortunately, there's more that we can do. Let's talk about it in the next lecture."
      ]
    },
    {
      "cell_type": "markdown",
      "metadata": {
        "id": "25rwV1mzQO3q"
      },
      "source": [
        "## Summary"
      ]
    },
    {
      "cell_type": "markdown",
      "metadata": {
        "id": "TI8lghdOQO3q"
      },
      "source": [
        "In this section, we utilized several new kinds of layers to implement a CNN, which performed better than the more simple model used in the last section. Hopefully the overall process of creating and training a model with prepared data is starting to become even more familiar."
      ]
    },
    {
      "cell_type": "markdown",
      "metadata": {
        "id": "rgbSm7oFQO3q"
      },
      "source": [
        "## Clear the Memory\n",
        "Before moving on, please execute the following cell to clear up the GPU memory. This is required to move on to the next notebook."
      ]
    },
    {
      "cell_type": "code",
      "execution_count": null,
      "metadata": {
        "id": "DrQpFbOnQO3q"
      },
      "outputs": [],
      "source": [
        "import IPython\n",
        "app = IPython.Application.instance()\n",
        "app.kernel.do_shutdown(True)"
      ]
    },
    {
      "cell_type": "code",
      "execution_count": null,
      "metadata": {},
      "outputs": [
        {
          "name": "stdout",
          "output_type": "stream",
          "text": [
            "Conv Layers: [(65, (2, 2), 1, 'same')]\n",
            "Pooling: size=(2, 2), stride=2, padding=same\n",
            "Dense Units: 512\n",
            "Dropout Rates: (0.2, 0.3)\n",
            "Learning Rate: 0.01\n",
            "Max Validation Accuracy: 0.8816\n",
            "\n",
            "Conv Layers: [(65, (3, 3), 1, 'same')]\n",
            "Pooling: size=(2, 2), stride=2, padding=same\n",
            "Dense Units: 512\n",
            "Dropout Rates: (0.2, 0.3)\n",
            "Learning Rate: 0.01\n",
            "Max Validation Accuracy: 0.8789\n",
            "\n",
            "Conv Layers: [(65, (4, 4), 1, 'same')]\n",
            "Pooling: size=(2, 2), stride=2, padding=same\n",
            "Dense Units: 512\n",
            "Dropout Rates: (0.2, 0.3)\n",
            "Learning Rate: 0.01\n",
            "Max Validation Accuracy: 0.8738\n",
            "\n",
            "Conv Layers: [(70, (2, 2), 1, 'same')]\n",
            "Pooling: size=(2, 2), stride=2, padding=same\n",
            "Dense Units: 512\n",
            "Dropout Rates: (0.2, 0.3)\n",
            "Learning Rate: 0.01\n",
            "Max Validation Accuracy: 0.8805\n",
            "\n"
          ]
        }
      ],
      "source": [
        "from tensorflow.keras.models import Sequential\n",
        "from tensorflow.keras.layers import Conv2D, MaxPool2D, Flatten, Dense, Dropout, BatchNormalization\n",
        "\n",
        "def build_and_train_cnn(x_train, y_train, x_valid, y_valid,\n",
        "                         conv_layers=[(75, (3,3), 1, \"same\")],\n",
        "                         pool_size=(2,2), pool_stride=2, pool_padding=\"same\",\n",
        "                         dense_units=512, dropout_rates=(0.2, 0.3), learning_rate=0.01,\n",
        "                         epochs=10, batch_size=32, verbose=0):\n",
        "    model = Sequential()\n",
        "    \n",
        "    # Add convolutional layers\n",
        "    for i, (filters, kernel_size, stride, padding) in enumerate(conv_layers):\n",
        "        if i == 0:\n",
        "            model.add(Conv2D(filters, kernel_size, strides=stride, padding=padding, activation=\"relu\",\n",
        "                             input_shape=(28, 28, 1)))\n",
        "        else:\n",
        "            model.add(Conv2D(filters, kernel_size, strides=stride, padding=padding, activation=\"relu\"))\n",
        "        model.add(BatchNormalization())\n",
        "        if i < len(dropout_rates):\n",
        "            model.add(Dropout(dropout_rates[i]))\n",
        "        model.add(MaxPool2D(pool_size, strides=pool_stride, padding=pool_padding))\n",
        "    \n",
        "    model.add(Flatten())\n",
        "    model.add(Dense(units=dense_units, activation=\"relu\"))\n",
        "    model.add(Dropout(dropout_rates[-1]))\n",
        "    model.add(Dense(units=10, activation=\"softmax\"))\n",
        "    \n",
        "    # Compile model\n",
        "    model.compile(loss=\"categorical_crossentropy\", metrics=[\"accuracy\"])\n",
        "    \n",
        "    # Train model\n",
        "    history = model.fit(x_train, y_train, validation_data=(x_valid, y_valid), epochs=epochs, batch_size=batch_size, verbose=verbose)\n",
        "    \n",
        "    # Get highest validation accuracy\n",
        "    val_accuracy = max(history.history['val_accuracy'])\n",
        "    \n",
        "    # Report hyperparameters and accuracy\n",
        "    print(f\"Conv Layers: {conv_layers}\")\n",
        "    print(f\"Pooling: size={pool_size}, stride={pool_stride}, padding={pool_padding}\")\n",
        "    print(f\"Dense Units: {dense_units}\")\n",
        "    print(f\"Dropout Rates: {dropout_rates}\")\n",
        "    print(f\"Learning Rate: {learning_rate}\")\n",
        "    print(f\"Max Validation Accuracy: {val_accuracy:.4f}\\n\")\n",
        "    \n",
        "    return model, val_accuracy\n",
        "\n",
        "\n",
        "############################################################################################################################################################\n",
        "# TEST CODE - Allows me to iterate through a bunch of hyperparameters and run the training all at once, instead of manually changing them and taking 7 years\n",
        "\n",
        "# List to store results\n",
        "results = []\n",
        "\n",
        "# Example loop through different hyperparameters\n",
        "for epochs in [10, 25, 50]:\n",
        "    for features in [65, 70, 75, 80, 85]:\n",
        "        for kernel_size in [(2,2), (3,3), (4,4)]:\n",
        "            model, val_acc = build_and_train_cnn(x_train, y_train, x_valid, y_valid, epochs=epochs, verbose=0, conv_layers=[(features, kernel_size, 1, \"same\")])\n",
        "        \n",
        "            # Store model summary as a string\n",
        "            model_summary = []\n",
        "            model.summary(print_fn=lambda x: model_summary.append(x))\n",
        "            model_summary = \"\\n\".join(model_summary)\n",
        "        \n",
        "            # Append to results\n",
        "            results.append({\n",
        "                \"epochs\": epochs,\n",
        "                \"val_accuracy\": val_acc,\n",
        "                \"model_summary\": model_summary\n",
        "            })\n",
        "\n",
        "# Convert to DataFrame\n",
        "df_results = pd.DataFrame(results)\n",
        "\n",
        "# Display results\n",
        "print(df_results)\n",
        "\n",
        "#build_and_train_cnn(x_train,y_train,x_valid,y_valid,[(75, (3,3), 1, \"same\")],(2,2),2,\"same\",512,(0.2,0.3),0.01,10,32)"
      ]
    }
  ],
  "metadata": {
    "colab": {
      "provenance": []
    },
    "kernelspec": {
      "display_name": "base",
      "language": "python",
      "name": "python3"
    },
    "language_info": {
      "codemirror_mode": {
        "name": "ipython",
        "version": 3
      },
      "file_extension": ".py",
      "mimetype": "text/x-python",
      "name": "python",
      "nbconvert_exporter": "python",
      "pygments_lexer": "ipython3",
      "version": "3.11.5"
    }
  },
  "nbformat": 4,
  "nbformat_minor": 0
}
